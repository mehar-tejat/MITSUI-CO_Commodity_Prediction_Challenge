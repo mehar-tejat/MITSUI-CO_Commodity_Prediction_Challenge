{
 "cells": [
  {
   "cell_type": "markdown",
   "id": "ce37c04e",
   "metadata": {},
   "source": [
    "# this file for local experiments"
   ]
  },
  {
   "cell_type": "code",
   "execution_count": 2,
   "id": "214ded82",
   "metadata": {},
   "outputs": [],
   "source": [
    "import pandas as pd"
   ]
  },
  {
   "cell_type": "markdown",
   "id": "b52cafdd",
   "metadata": {},
   "source": []
  }
 ],
 "metadata": {
  "kernelspec": {
   "display_name": ".venv",
   "language": "python",
   "name": "python3"
  },
  "language_info": {
   "codemirror_mode": {
    "name": "ipython",
    "version": 3
   },
   "file_extension": ".py",
   "mimetype": "text/x-python",
   "name": "python",
   "nbconvert_exporter": "python",
   "pygments_lexer": "ipython3",
   "version": "3.10.11"
  }
 },
 "nbformat": 4,
 "nbformat_minor": 5
}
