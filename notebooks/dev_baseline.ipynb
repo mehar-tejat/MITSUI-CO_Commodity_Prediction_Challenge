{
 "cells": [
  {
   "cell_type": "markdown",
   "id": "ce37c04e",
   "metadata": {},
   "source": [
    "# this file for local experiments"
   ]
  },
  {
   "cell_type": "code",
   "execution_count": 2,
   "id": "214ded82",
   "metadata": {},
   "outputs": [],
   "source": [
    "import pandas as pd"
   ]
  },
  {
   "cell_type": "code",
   "execution_count": null,
   "id": "f14173a6",
   "metadata": {},
   "outputs": [],
   "source": [
    "# baseline.ipynb\n",
    "import sys, os\n",
    "sys.path.append(\"../input/ares-dataset-v1/ares\")  # Import your package\n",
    "\n",
    "from ares.data import load_data\n",
    "from ares.validation import ARESVal\n",
    "from ares.models import GBMTower, SeqTower\n",
    "from ares.ensemble import ARESens\n",
    "from ares.stability import StabilityHead\n",
    "\n",
    "# 1. Load precomputed features\n",
    "train, test = load_data(\"../input/ares-dataset-v1/processed\")\n",
    "\n",
    "# 2. Train models (efficiently, few folds)\n",
    "gbm = GBMTower().fit(train)\n",
    "seq = SeqTower().fit(train)\n",
    "\n",
    "# 3. Ensemble\n",
    "ens = ARESens([gbm, seq])\n",
    "preds = ens.predict(test)\n",
    "\n",
    "# 4. Guardrails\n",
    "final_preds = StabilityHead().apply(preds)\n",
    "\n",
    "# 5. Save submission\n",
    "final_preds.to_csv(\"submission.csv\", index=False)\n"
   ]
  },
  {
   "cell_type": "markdown",
   "id": "b52cafdd",
   "metadata": {},
   "source": []
  }
 ],
 "metadata": {
  "kernelspec": {
   "display_name": ".venv",
   "language": "python",
   "name": "python3"
  },
  "language_info": {
   "codemirror_mode": {
    "name": "ipython",
    "version": 3
   },
   "file_extension": ".py",
   "mimetype": "text/x-python",
   "name": "python",
   "nbconvert_exporter": "python",
   "pygments_lexer": "ipython3",
   "version": "3.10.11"
  }
 },
 "nbformat": 4,
 "nbformat_minor": 5
}
